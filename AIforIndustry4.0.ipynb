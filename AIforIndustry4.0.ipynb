{
  "nbformat": 4,
  "nbformat_minor": 0,
  "metadata": {
    "colab": {
      "provenance": [],
      "mount_file_id": "1oyaNQj7_YBpPYaNHEQ4Jckr6hyCxfOcC",
      "authorship_tag": "ABX9TyP1/ITfpABKhRPOLIQaee4h",
      "include_colab_link": true
    },
    "kernelspec": {
      "name": "python3",
      "display_name": "Python 3"
    },
    "language_info": {
      "name": "python"
    }
  },
  "cells": [
    {
      "cell_type": "markdown",
      "metadata": {
        "id": "view-in-github",
        "colab_type": "text"
      },
      "source": [
        "<a href=\"https://colab.research.google.com/github/michalakatarzyna/AIfortheindustry4.0/blob/main/AIforIndustry4.0.ipynb\" target=\"_parent\"><img src=\"https://colab.research.google.com/assets/colab-badge.svg\" alt=\"Open In Colab\"/></a>"
      ]
    },
    {
      "cell_type": "code",
      "source": [
        "import pandas as pd\n",
        "import os\n",
        "from pathlib import Path\n",
        "import glob\n",
        "import seaborn as sns\n",
        "import matplotlib.pyplot as plt\n",
        "import numpy as np\n",
        "from scipy import stats\n",
        "from sklearn.linear_model import LinearRegression\n",
        "from sklearn.model_selection import train_test_split\n",
        "from sklearn.metrics import r2_score\n",
        "from sklearn.metrics import mean_absolute_error\n",
        "from sklearn.metrics import mean_absolute_percentage_error\n",
        "from sklearn.metrics import mean_squared_error\n",
        "from sklearn.tree import DecisionTreeRegressor\n",
        "from sklearn.ensemble import RandomForestRegressor"
      ],
      "metadata": {
        "id": "UNdKSSc0KIUb"
      },
      "execution_count": null,
      "outputs": []
    },
    {
      "cell_type": "markdown",
      "source": [
        "DATA PREPROCESSING PRELIMINARY ANALYSIS"
      ],
      "metadata": {
        "id": "w4N3Bv3La48c"
      }
    },
    {
      "cell_type": "code",
      "source": [
        "PATH = \"/content/drive/MyDrive/Dataset\""
      ],
      "metadata": {
        "id": "hBE46qU7LTyC"
      },
      "execution_count": null,
      "outputs": []
    },
    {
      "cell_type": "code",
      "source": [
        "subdir_names_ls = os.listdir(PATH)"
      ],
      "metadata": {
        "id": "-YBOLyI9MMvr"
      },
      "execution_count": null,
      "outputs": []
    },
    {
      "cell_type": "code",
      "source": [
        "def load_data_from_all_path(PATH, substance):\n",
        "  substance_path_ls = []\n",
        "  for subdir in subdir_names_ls:\n",
        "    for path in Path(os.path.join(PATH, subdir)).rglob('*.txt'):\n",
        "      if substance in path.name:\n",
        "        substance_path_ls.append(pd.read_csv(path, names = [substance + '_wavelength',\n",
        "                                                             substance + '_amplitude'],\n",
        "                                              header=None))\n",
        "  return substance_path_ls"
      ],
      "metadata": {
        "id": "Dul6JqK-LXRZ"
      },
      "execution_count": null,
      "outputs": []
    },
    {
      "cell_type": "code",
      "source": [
        "air_data = load_data_from_all_path(PATH, 'air')\n",
        "water_data = load_data_from_all_path(PATH, 'water')\n",
        "izopropanol_data = load_data_from_all_path(PATH, 'izopropanol')"
      ],
      "metadata": {
        "id": "yVRHepMDaanc"
      },
      "execution_count": null,
      "outputs": []
    },
    {
      "cell_type": "code",
      "source": [
        "air_df = pd.concat(air_data)\n",
        "water_df = pd.concat(water_data)\n",
        "izopropanol_df = pd.concat(izopropanol_data)"
      ],
      "metadata": {
        "id": "vZZ9UHSlZnYR"
      },
      "execution_count": null,
      "outputs": []
    },
    {
      "cell_type": "code",
      "source": [
        "print(air_df.shape)\n",
        "print(water_df.shape)\n",
        "print(izopropanol_df.shape)"
      ],
      "metadata": {
        "colab": {
          "base_uri": "https://localhost:8080/"
        },
        "id": "Y6jJtc7NMaXX",
        "outputId": "b1a218fe-7093-4823-a20a-e2f2b4f79504"
      },
      "execution_count": null,
      "outputs": [
        {
          "output_type": "stream",
          "name": "stdout",
          "text": [
            "(30010, 2)\n",
            "(30010, 2)\n",
            "(30010, 2)\n"
          ]
        }
      ]
    },
    {
      "cell_type": "code",
      "source": [
        "air_df = air_df.reset_index(drop=True)\n",
        "water_df = water_df.reset_index(drop=True)\n",
        "izopropanol_df = izopropanol_df.reset_index(drop=True)"
      ],
      "metadata": {
        "id": "Mm7XxPnvMkwd"
      },
      "execution_count": null,
      "outputs": []
    },
    {
      "cell_type": "code",
      "source": [
        "print(\"air_describe \\n\", air_df.describe())\n",
        "print()\n",
        "print(\"water_describe \\n\", water_df.describe())\n",
        "print()\n",
        "print(\"izopropanol_describe \\n\", izopropanol_df.describe())"
      ],
      "metadata": {
        "colab": {
          "base_uri": "https://localhost:8080/"
        },
        "id": "uRbDIivdMzeC",
        "outputId": "577a7a64-1808-47b6-875f-764a988382e3"
      },
      "execution_count": null,
      "outputs": [
        {
          "output_type": "stream",
          "name": "stdout",
          "text": [
            "air_describe \n",
            "        air_wavelength  air_amplitude\n",
            "count    3.001000e+04   30010.000000\n",
            "mean     1.500000e-06       0.799809\n",
            "std      8.663285e-08       4.903714\n",
            "min      1.350000e-06      -8.798200\n",
            "25%      1.425000e-06      -3.203700\n",
            "50%      1.500000e-06       1.009450\n",
            "75%      1.575000e-06       4.794300\n",
            "max      1.650000e-06      10.003000\n",
            "\n",
            "water_describe \n",
            "        water_wavelength  water_amplitude\n",
            "count      3.001000e+04     30010.000000\n",
            "mean       1.500000e-06        -1.717725\n",
            "std        8.663285e-08         6.560504\n",
            "min        1.350000e-06       -14.673000\n",
            "25%        1.425000e-06        -6.825600\n",
            "50%        1.500000e-06        -1.859100\n",
            "75%        1.575000e-06         4.331600\n",
            "max        1.650000e-06         9.284900\n",
            "\n",
            "izopropanol_describe \n",
            "        izopropanol_wavelength  izopropanol_amplitude\n",
            "count            3.001000e+04           30010.000000\n",
            "mean             1.500000e-06              -1.765555\n",
            "std              8.663285e-08               6.973005\n",
            "min              1.350000e-06             -16.165000\n",
            "25%              1.425000e-06              -6.877225\n",
            "50%              1.500000e-06              -1.625000\n",
            "75%              1.575000e-06               4.584075\n",
            "max              1.650000e-06               9.551500\n"
          ]
        }
      ]
    },
    {
      "cell_type": "code",
      "source": [
        "data_df = pd.concat([air_df, water_df, izopropanol_df], axis=1)"
      ],
      "metadata": {
        "id": "t9h-pCpJM5O3"
      },
      "execution_count": null,
      "outputs": []
    },
    {
      "cell_type": "code",
      "source": [
        "data_df.describe()"
      ],
      "metadata": {
        "colab": {
          "base_uri": "https://localhost:8080/",
          "height": 300
        },
        "id": "34ulb_1uM7LX",
        "outputId": "8018c76f-f4fd-47fd-ba50-251804c24afd"
      },
      "execution_count": null,
      "outputs": [
        {
          "output_type": "execute_result",
          "data": {
            "text/plain": [
              "       air_wavelength  air_amplitude  water_wavelength  water_amplitude  \\\n",
              "count    3.001000e+04   30010.000000      3.001000e+04     30010.000000   \n",
              "mean     1.500000e-06       0.799809      1.500000e-06        -1.717725   \n",
              "std      8.663285e-08       4.903714      8.663285e-08         6.560504   \n",
              "min      1.350000e-06      -8.798200      1.350000e-06       -14.673000   \n",
              "25%      1.425000e-06      -3.203700      1.425000e-06        -6.825600   \n",
              "50%      1.500000e-06       1.009450      1.500000e-06        -1.859100   \n",
              "75%      1.575000e-06       4.794300      1.575000e-06         4.331600   \n",
              "max      1.650000e-06      10.003000      1.650000e-06         9.284900   \n",
              "\n",
              "       izopropanol_wavelength  izopropanol_amplitude  \n",
              "count            3.001000e+04           30010.000000  \n",
              "mean             1.500000e-06              -1.765555  \n",
              "std              8.663285e-08               6.973005  \n",
              "min              1.350000e-06             -16.165000  \n",
              "25%              1.425000e-06              -6.877225  \n",
              "50%              1.500000e-06              -1.625000  \n",
              "75%              1.575000e-06               4.584075  \n",
              "max              1.650000e-06               9.551500  "
            ],
            "text/html": [
              "\n",
              "  <div id=\"df-f061a5c3-2956-4485-ab51-4c822f0967be\">\n",
              "    <div class=\"colab-df-container\">\n",
              "      <div>\n",
              "<style scoped>\n",
              "    .dataframe tbody tr th:only-of-type {\n",
              "        vertical-align: middle;\n",
              "    }\n",
              "\n",
              "    .dataframe tbody tr th {\n",
              "        vertical-align: top;\n",
              "    }\n",
              "\n",
              "    .dataframe thead th {\n",
              "        text-align: right;\n",
              "    }\n",
              "</style>\n",
              "<table border=\"1\" class=\"dataframe\">\n",
              "  <thead>\n",
              "    <tr style=\"text-align: right;\">\n",
              "      <th></th>\n",
              "      <th>air_wavelength</th>\n",
              "      <th>air_amplitude</th>\n",
              "      <th>water_wavelength</th>\n",
              "      <th>water_amplitude</th>\n",
              "      <th>izopropanol_wavelength</th>\n",
              "      <th>izopropanol_amplitude</th>\n",
              "    </tr>\n",
              "  </thead>\n",
              "  <tbody>\n",
              "    <tr>\n",
              "      <th>count</th>\n",
              "      <td>3.001000e+04</td>\n",
              "      <td>30010.000000</td>\n",
              "      <td>3.001000e+04</td>\n",
              "      <td>30010.000000</td>\n",
              "      <td>3.001000e+04</td>\n",
              "      <td>30010.000000</td>\n",
              "    </tr>\n",
              "    <tr>\n",
              "      <th>mean</th>\n",
              "      <td>1.500000e-06</td>\n",
              "      <td>0.799809</td>\n",
              "      <td>1.500000e-06</td>\n",
              "      <td>-1.717725</td>\n",
              "      <td>1.500000e-06</td>\n",
              "      <td>-1.765555</td>\n",
              "    </tr>\n",
              "    <tr>\n",
              "      <th>std</th>\n",
              "      <td>8.663285e-08</td>\n",
              "      <td>4.903714</td>\n",
              "      <td>8.663285e-08</td>\n",
              "      <td>6.560504</td>\n",
              "      <td>8.663285e-08</td>\n",
              "      <td>6.973005</td>\n",
              "    </tr>\n",
              "    <tr>\n",
              "      <th>min</th>\n",
              "      <td>1.350000e-06</td>\n",
              "      <td>-8.798200</td>\n",
              "      <td>1.350000e-06</td>\n",
              "      <td>-14.673000</td>\n",
              "      <td>1.350000e-06</td>\n",
              "      <td>-16.165000</td>\n",
              "    </tr>\n",
              "    <tr>\n",
              "      <th>25%</th>\n",
              "      <td>1.425000e-06</td>\n",
              "      <td>-3.203700</td>\n",
              "      <td>1.425000e-06</td>\n",
              "      <td>-6.825600</td>\n",
              "      <td>1.425000e-06</td>\n",
              "      <td>-6.877225</td>\n",
              "    </tr>\n",
              "    <tr>\n",
              "      <th>50%</th>\n",
              "      <td>1.500000e-06</td>\n",
              "      <td>1.009450</td>\n",
              "      <td>1.500000e-06</td>\n",
              "      <td>-1.859100</td>\n",
              "      <td>1.500000e-06</td>\n",
              "      <td>-1.625000</td>\n",
              "    </tr>\n",
              "    <tr>\n",
              "      <th>75%</th>\n",
              "      <td>1.575000e-06</td>\n",
              "      <td>4.794300</td>\n",
              "      <td>1.575000e-06</td>\n",
              "      <td>4.331600</td>\n",
              "      <td>1.575000e-06</td>\n",
              "      <td>4.584075</td>\n",
              "    </tr>\n",
              "    <tr>\n",
              "      <th>max</th>\n",
              "      <td>1.650000e-06</td>\n",
              "      <td>10.003000</td>\n",
              "      <td>1.650000e-06</td>\n",
              "      <td>9.284900</td>\n",
              "      <td>1.650000e-06</td>\n",
              "      <td>9.551500</td>\n",
              "    </tr>\n",
              "  </tbody>\n",
              "</table>\n",
              "</div>\n",
              "      <button class=\"colab-df-convert\" onclick=\"convertToInteractive('df-f061a5c3-2956-4485-ab51-4c822f0967be')\"\n",
              "              title=\"Convert this dataframe to an interactive table.\"\n",
              "              style=\"display:none;\">\n",
              "        \n",
              "  <svg xmlns=\"http://www.w3.org/2000/svg\" height=\"24px\"viewBox=\"0 0 24 24\"\n",
              "       width=\"24px\">\n",
              "    <path d=\"M0 0h24v24H0V0z\" fill=\"none\"/>\n",
              "    <path d=\"M18.56 5.44l.94 2.06.94-2.06 2.06-.94-2.06-.94-.94-2.06-.94 2.06-2.06.94zm-11 1L8.5 8.5l.94-2.06 2.06-.94-2.06-.94L8.5 2.5l-.94 2.06-2.06.94zm10 10l.94 2.06.94-2.06 2.06-.94-2.06-.94-.94-2.06-.94 2.06-2.06.94z\"/><path d=\"M17.41 7.96l-1.37-1.37c-.4-.4-.92-.59-1.43-.59-.52 0-1.04.2-1.43.59L10.3 9.45l-7.72 7.72c-.78.78-.78 2.05 0 2.83L4 21.41c.39.39.9.59 1.41.59.51 0 1.02-.2 1.41-.59l7.78-7.78 2.81-2.81c.8-.78.8-2.07 0-2.86zM5.41 20L4 18.59l7.72-7.72 1.47 1.35L5.41 20z\"/>\n",
              "  </svg>\n",
              "      </button>\n",
              "      \n",
              "  <style>\n",
              "    .colab-df-container {\n",
              "      display:flex;\n",
              "      flex-wrap:wrap;\n",
              "      gap: 12px;\n",
              "    }\n",
              "\n",
              "    .colab-df-convert {\n",
              "      background-color: #E8F0FE;\n",
              "      border: none;\n",
              "      border-radius: 50%;\n",
              "      cursor: pointer;\n",
              "      display: none;\n",
              "      fill: #1967D2;\n",
              "      height: 32px;\n",
              "      padding: 0 0 0 0;\n",
              "      width: 32px;\n",
              "    }\n",
              "\n",
              "    .colab-df-convert:hover {\n",
              "      background-color: #E2EBFA;\n",
              "      box-shadow: 0px 1px 2px rgba(60, 64, 67, 0.3), 0px 1px 3px 1px rgba(60, 64, 67, 0.15);\n",
              "      fill: #174EA6;\n",
              "    }\n",
              "\n",
              "    [theme=dark] .colab-df-convert {\n",
              "      background-color: #3B4455;\n",
              "      fill: #D2E3FC;\n",
              "    }\n",
              "\n",
              "    [theme=dark] .colab-df-convert:hover {\n",
              "      background-color: #434B5C;\n",
              "      box-shadow: 0px 1px 3px 1px rgba(0, 0, 0, 0.15);\n",
              "      filter: drop-shadow(0px 1px 2px rgba(0, 0, 0, 0.3));\n",
              "      fill: #FFFFFF;\n",
              "    }\n",
              "  </style>\n",
              "\n",
              "      <script>\n",
              "        const buttonEl =\n",
              "          document.querySelector('#df-f061a5c3-2956-4485-ab51-4c822f0967be button.colab-df-convert');\n",
              "        buttonEl.style.display =\n",
              "          google.colab.kernel.accessAllowed ? 'block' : 'none';\n",
              "\n",
              "        async function convertToInteractive(key) {\n",
              "          const element = document.querySelector('#df-f061a5c3-2956-4485-ab51-4c822f0967be');\n",
              "          const dataTable =\n",
              "            await google.colab.kernel.invokeFunction('convertToInteractive',\n",
              "                                                     [key], {});\n",
              "          if (!dataTable) return;\n",
              "\n",
              "          const docLinkHtml = 'Like what you see? Visit the ' +\n",
              "            '<a target=\"_blank\" href=https://colab.research.google.com/notebooks/data_table.ipynb>data table notebook</a>'\n",
              "            + ' to learn more about interactive tables.';\n",
              "          element.innerHTML = '';\n",
              "          dataTable['output_type'] = 'display_data';\n",
              "          await google.colab.output.renderOutput(dataTable, element);\n",
              "          const docLink = document.createElement('div');\n",
              "          docLink.innerHTML = docLinkHtml;\n",
              "          element.appendChild(docLink);\n",
              "        }\n",
              "      </script>\n",
              "    </div>\n",
              "  </div>\n",
              "  "
            ]
          },
          "metadata": {},
          "execution_count": 81
        }
      ]
    },
    {
      "cell_type": "code",
      "source": [
        "data_df = data_df[data_df.columns[data_df.columns.str.contains('air_wavelength|amplitude')]]\n",
        "data_df.rename(columns={\"air_wavelength\":\"wavelength\"}, inplace=True)"
      ],
      "metadata": {
        "id": "Jr1YlWvoM9AX",
        "colab": {
          "base_uri": "https://localhost:8080/"
        },
        "outputId": "69c3c500-69ed-4835-e26d-4cdb9448f89a"
      },
      "execution_count": null,
      "outputs": [
        {
          "output_type": "stream",
          "name": "stderr",
          "text": [
            "/usr/local/lib/python3.8/dist-packages/pandas/core/frame.py:5039: SettingWithCopyWarning: \n",
            "A value is trying to be set on a copy of a slice from a DataFrame\n",
            "\n",
            "See the caveats in the documentation: https://pandas.pydata.org/pandas-docs/stable/user_guide/indexing.html#returning-a-view-versus-a-copy\n",
            "  return super().rename(\n"
          ]
        }
      ]
    },
    {
      "cell_type": "code",
      "source": [
        "data_df['wavelength'].nunique()\n"
      ],
      "metadata": {
        "colab": {
          "base_uri": "https://localhost:8080/"
        },
        "id": "GNH2Nz--NFMp",
        "outputId": "0229f846-c5c0-43cd-dac9-388ca835ab4e"
      },
      "execution_count": null,
      "outputs": [
        {
          "output_type": "execute_result",
          "data": {
            "text/plain": [
              "3001"
            ]
          },
          "metadata": {},
          "execution_count": 83
        }
      ]
    },
    {
      "cell_type": "code",
      "source": [
        "sns.lineplot(x = 'wavelength',\n",
        "             y = 'air_amplitude',\n",
        "             color = 'pink',\n",
        "             label = \"air\",\n",
        "             data = data_df)\n",
        "sns.lineplot(x = 'wavelength',\n",
        "             y = 'water_amplitude',\n",
        "             color = 'blue',\n",
        "             label = 'water',\n",
        "             data = data_df)\n",
        "sns.lineplot(x = 'wavelength',\n",
        "             y = 'izopropanol_amplitude',\n",
        "             label = 'izopropanol',\n",
        "             color = 'green',\n",
        "             data = data_df)"
      ],
      "metadata": {
        "colab": {
          "base_uri": "https://localhost:8080/",
          "height": 296
        },
        "id": "-2krUpBcNK4_",
        "outputId": "3d39bc97-0d58-4b17-8971-3a6db846bd97"
      },
      "execution_count": null,
      "outputs": [
        {
          "output_type": "execute_result",
          "data": {
            "text/plain": [
              "<matplotlib.axes._subplots.AxesSubplot at 0x7f4675c49220>"
            ]
          },
          "metadata": {},
          "execution_count": 84
        },
        {
          "output_type": "display_data",
          "data": {
            "text/plain": [
              "<Figure size 432x288 with 1 Axes>"
            ],
            "image/png": "[encoded data removed]"
          },
          "metadata": {
            "needs_background": "light"
          }
        }
      ]
    },
    {
      "cell_type": "code",
      "source": [
        "fig, axes = plt.subplots(1, 3, figsize=(20, 7))\n",
        "axes[0].scatter(data_df['wavelength'], data_df['air_amplitude'], color = 'pink')\n",
        "axes[0].set_title('Air')\n",
        "axes[1].scatter(data_df['wavelength'], data_df['water_amplitude'], color = 'blue')\n",
        "axes[1].set_title('Water')\n",
        "axes[2].scatter(data_df['wavelength'], data_df['izopropanol_amplitude'], color = 'green')\n",
        "axes[2].set_title('Isopropanol')"
      ],
      "metadata": {
        "colab": {
          "base_uri": "https://localhost:8080/",
          "height": 474
        },
        "id": "12N1mLTZNNnb",
        "outputId": "397d544d-2004-4fe5-bd44-7e1c6e7b7ec5"
      },
      "execution_count": null,
      "outputs": [
        {
          "output_type": "execute_result",
          "data": {
            "text/plain": [
              "Text(0.5, 1.0, 'Isopropanol')"
            ]
          },
          "metadata": {},
          "execution_count": 85
        },
        {
          "output_type": "display_data",
          "data": {
            "text/plain": [
              "<Figure size 1440x504 with 3 Axes>"
            ],
            "image/png": "[encoded data removed]"
          },
          "metadata": {
            "needs_background": "light"
          }
        }
      ]
    },
    {
      "cell_type": "code",
      "source": [
        "data_df.isna().any()"
      ],
      "metadata": {
        "colab": {
          "base_uri": "https://localhost:8080/"
        },
        "id": "yONEKsxlNa4n",
        "outputId": "44acf1d8-28f5-48b5-ce65-f7c3998ec33f"
      },
      "execution_count": null,
      "outputs": [
        {
          "output_type": "execute_result",
          "data": {
            "text/plain": [
              "wavelength               False\n",
              "air_amplitude            False\n",
              "water_amplitude          False\n",
              "izopropanol_amplitude    False\n",
              "dtype: bool"
            ]
          },
          "metadata": {},
          "execution_count": 86
        }
      ]
    },
    {
      "cell_type": "code",
      "source": [
        "sns.heatmap(data=data_df.corr(), annot=True)"
      ],
      "metadata": {
        "colab": {
          "base_uri": "https://localhost:8080/",
          "height": 390
        },
        "id": "-VwSXTYnNcaT",
        "outputId": "21111b0d-93de-4736-a036-7bf764024d92"
      },
      "execution_count": null,
      "outputs": [
        {
          "output_type": "execute_result",
          "data": {
            "text/plain": [
              "<matplotlib.axes._subplots.AxesSubplot at 0x7f465efd7e20>"
            ]
          },
          "metadata": {},
          "execution_count": 87
        },
        {
          "output_type": "display_data",
          "data": {
            "text/plain": [
              "<Figure size 432x288 with 2 Axes>"
            ],
            "image/png": "[encoded data removed]"
          },
          "metadata": {
            "needs_background": "light"
          }
        }
      ]
    },
    {
      "cell_type": "markdown",
      "source": [
        "#PREPARING DATA FOR THE MODELS"
      ],
      "metadata": {
        "id": "SIiJ84Cg-Ei-"
      }
    },
    {
      "cell_type": "code",
      "source": [
        "X_water = data_df[['air_amplitude']]\n",
        "y_water = data_df[['water_amplitude']]\n"
      ],
      "metadata": {
        "id": "4LNImKnueSMg"
      },
      "execution_count": null,
      "outputs": []
    },
    {
      "cell_type": "code",
      "source": [
        "X_water_train, X_water_test, y_water_train, y_water_test = train_test_split(X_water, y_water, test_size=0.2, random_state=42)"
      ],
      "metadata": {
        "id": "O3cw4wtr-UFF"
      },
      "execution_count": null,
      "outputs": []
    },
    {
      "cell_type": "code",
      "source": [
        "X_izopropanol = data_df[['air_amplitude']]\n",
        "y_izopropanol = data_df[['izopropanol_amplitude']]\n"
      ],
      "metadata": {
        "id": "T-vjNv_v-d7Y"
      },
      "execution_count": null,
      "outputs": []
    },
    {
      "cell_type": "code",
      "source": [
        "X_izopropanol_train, X_izopropanol_test, y_izopropanol_train, y_izopropanol_test = train_test_split(X_izopropanol, y_izopropanol, test_size=0.2, random_state=10)"
      ],
      "metadata": {
        "id": "xHeNwUC0-1BD"
      },
      "execution_count": null,
      "outputs": []
    },
    {
      "cell_type": "markdown",
      "source": [
        "##Linear Regression"
      ],
      "metadata": {
        "id": "a5YrUL-jltJq"
      }
    },
    {
      "cell_type": "code",
      "source": [
        "model_water = LinearRegression()\n",
        "model_water.fit(X_water_train, y_water_train)"
      ],
      "metadata": {
        "colab": {
          "base_uri": "https://localhost:8080/"
        },
        "id": "y7C1lXN1jyZU",
        "outputId": "418c0f16-0aa1-4f8f-be97-2e4c99c809e7"
      },
      "execution_count": null,
      "outputs": [
        {
          "output_type": "execute_result",
          "data": {
            "text/plain": [
              "LinearRegression()"
            ]
          },
          "metadata": {},
          "execution_count": 92
        }
      ]
    },
    {
      "cell_type": "code",
      "source": [
        "model_izopropanol = LinearRegression()\n",
        "model_izopropanol .fit(X_izopropanol_train, y_izopropanol_train)"
      ],
      "metadata": {
        "colab": {
          "base_uri": "https://localhost:8080/"
        },
        "id": "VJrty0xPiIwb",
        "outputId": "26a5ff59-e5ca-410a-bb60-0e41c66b2b05"
      },
      "execution_count": null,
      "outputs": [
        {
          "output_type": "execute_result",
          "data": {
            "text/plain": [
              "LinearRegression()"
            ]
          },
          "metadata": {},
          "execution_count": 93
        }
      ]
    },
    {
      "cell_type": "markdown",
      "source": [
        "### MODEL EVALUATION METRICS\n",
        "\n"
      ],
      "metadata": {
        "id": "npnlnKxWlw4k"
      }
    },
    {
      "cell_type": "markdown",
      "source": [
        "R^2 SCORE\n"
      ],
      "metadata": {
        "id": "UPCCV0CQl3-D"
      }
    },
    {
      "cell_type": "code",
      "source": [
        "y_water_predict = model_water.predict(X_water_test)\n",
        "r2_score(y_water_test, y_water_predict)"
      ],
      "metadata": {
        "colab": {
          "base_uri": "https://localhost:8080/"
        },
        "id": "Ls45YsOdilg7",
        "outputId": "5be78634-dfbe-4ed0-8a35-4be616e49832"
      },
      "execution_count": null,
      "outputs": [
        {
          "output_type": "execute_result",
          "data": {
            "text/plain": [
              "0.7899698557731869"
            ]
          },
          "metadata": {},
          "execution_count": 94
        }
      ]
    },
    {
      "cell_type": "code",
      "source": [
        "y_izopropanol_predict = model_izopropanol.predict(X_izopropanol_test)\n",
        "r2_score(y_izopropanol_test, y_izopropanol_predict)"
      ],
      "metadata": {
        "colab": {
          "base_uri": "https://localhost:8080/"
        },
        "id": "UxodyJhnJjJ1",
        "outputId": "3e3eecf9-edfb-4e5e-e433-1b65c4bb4dc9"
      },
      "execution_count": null,
      "outputs": [
        {
          "output_type": "execute_result",
          "data": {
            "text/plain": [
              "0.7784613532566147"
            ]
          },
          "metadata": {},
          "execution_count": 95
        }
      ]
    },
    {
      "cell_type": "markdown",
      "source": [
        "MAE  "
      ],
      "metadata": {
        "id": "6rhuSfo-l8da"
      }
    },
    {
      "cell_type": "code",
      "source": [
        "y_water_pred = model_water.predict(X_water_test)\n",
        "mean_absolute_error(y_water_test, y_water_pred)"
      ],
      "metadata": {
        "colab": {
          "base_uri": "https://localhost:8080/"
        },
        "id": "jQbT-tzImDFj",
        "outputId": "9135b9fa-5de6-461e-8020-0092aca138fe"
      },
      "execution_count": null,
      "outputs": [
        {
          "output_type": "execute_result",
          "data": {
            "text/plain": [
              "2.5656546709605874"
            ]
          },
          "metadata": {},
          "execution_count": 96
        }
      ]
    },
    {
      "cell_type": "code",
      "source": [
        "y_izopropanol_pred = model_izopropanol.predict(X_izopropanol_test)\n",
        "mean_absolute_error(y_izopropanol_test, y_izopropanol_pred)"
      ],
      "metadata": {
        "colab": {
          "base_uri": "https://localhost:8080/"
        },
        "id": "e5m5cwdTJ1m9",
        "outputId": "f5c2811e-d248-40f5-f24b-d141a706ab0f"
      },
      "execution_count": null,
      "outputs": [
        {
          "output_type": "execute_result",
          "data": {
            "text/plain": [
              "2.7244942606673277"
            ]
          },
          "metadata": {},
          "execution_count": 97
        }
      ]
    },
    {
      "cell_type": "markdown",
      "source": [
        "MAPE"
      ],
      "metadata": {
        "id": "ji3GbM5Xnh96"
      }
    },
    {
      "cell_type": "code",
      "source": [
        "mean_absolute_percentage_error(y_water_test, y_water_pred)"
      ],
      "metadata": {
        "colab": {
          "base_uri": "https://localhost:8080/"
        },
        "id": "KCLVuHRBnm2H",
        "outputId": "2fdb1b4b-e57d-4887-fab2-be1d9221a67e"
      },
      "execution_count": null,
      "outputs": [
        {
          "output_type": "execute_result",
          "data": {
            "text/plain": [
              "1.67469348643517"
            ]
          },
          "metadata": {},
          "execution_count": 98
        }
      ]
    },
    {
      "cell_type": "code",
      "source": [
        "mean_absolute_percentage_error(y_izopropanol_test, y_izopropanol_pred)"
      ],
      "metadata": {
        "colab": {
          "base_uri": "https://localhost:8080/"
        },
        "id": "udwg7DBiJ5yD",
        "outputId": "b4656889-3223-4b34-bfe2-a0a0456f0f78"
      },
      "execution_count": null,
      "outputs": [
        {
          "output_type": "execute_result",
          "data": {
            "text/plain": [
              "2.084698209690647"
            ]
          },
          "metadata": {},
          "execution_count": 99
        }
      ]
    },
    {
      "cell_type": "markdown",
      "source": [
        "MSE "
      ],
      "metadata": {
        "id": "_ii8FvOsqEKc"
      }
    },
    {
      "cell_type": "code",
      "source": [
        "mean_squared_error(y_water_test, y_water_pred)"
      ],
      "metadata": {
        "colab": {
          "base_uri": "https://localhost:8080/"
        },
        "id": "Pdisq8dHqMDg",
        "outputId": "acf558e5-7529-4f9d-b027-0cb1439495b7"
      },
      "execution_count": null,
      "outputs": [
        {
          "output_type": "execute_result",
          "data": {
            "text/plain": [
              "9.021177051912778"
            ]
          },
          "metadata": {},
          "execution_count": 100
        }
      ]
    },
    {
      "cell_type": "code",
      "source": [
        "mean_squared_error(y_izopropanol_test, y_izopropanol_pred)"
      ],
      "metadata": {
        "colab": {
          "base_uri": "https://localhost:8080/"
        },
        "id": "MtaIJzLyJ_oY",
        "outputId": "0bc4aa74-3783-41ce-f5ad-4ba1cb99d7ca"
      },
      "execution_count": null,
      "outputs": [
        {
          "output_type": "execute_result",
          "data": {
            "text/plain": [
              "10.738979519622806"
            ]
          },
          "metadata": {},
          "execution_count": 101
        }
      ]
    },
    {
      "cell_type": "markdown",
      "source": [
        "RMSE"
      ],
      "metadata": {
        "id": "F6yXyJw6rkzP"
      }
    },
    {
      "cell_type": "code",
      "source": [
        "mean_squared_error(y_water_test, y_water_pred, squared=False)"
      ],
      "metadata": {
        "colab": {
          "base_uri": "https://localhost:8080/"
        },
        "id": "_6xLEjRTroCk",
        "outputId": "de23847d-b212-43cd-fe11-12ec722d9dff"
      },
      "execution_count": null,
      "outputs": [
        {
          "output_type": "execute_result",
          "data": {
            "text/plain": [
              "3.0035274348526895"
            ]
          },
          "metadata": {},
          "execution_count": 102
        }
      ]
    },
    {
      "cell_type": "code",
      "source": [
        "mean_squared_error(y_izopropanol_test, y_izopropanol_pred, squared=False)"
      ],
      "metadata": {
        "colab": {
          "base_uri": "https://localhost:8080/"
        },
        "id": "Ig160kUeKE1u",
        "outputId": "2afcdafc-b084-4954-b091-f846215769b0"
      },
      "execution_count": null,
      "outputs": [
        {
          "output_type": "execute_result",
          "data": {
            "text/plain": [
              "3.2770382237048756"
            ]
          },
          "metadata": {},
          "execution_count": 103
        }
      ]
    },
    {
      "cell_type": "markdown",
      "source": [
        "##Deccision Tree"
      ],
      "metadata": {
        "id": "1_6uNvJpQN9G"
      }
    },
    {
      "cell_type": "markdown",
      "source": [
        "### MODEL EVALUATION METRICS"
      ],
      "metadata": {
        "id": "MxHVQP3uknV7"
      }
    },
    {
      "cell_type": "code",
      "source": [
        "model_tree_water = DecisionTreeRegressor()\n",
        "model_tree_water.fit(X_water_train, y_water_train)"
      ],
      "metadata": {
        "colab": {
          "base_uri": "https://localhost:8080/"
        },
        "id": "H9pzsxAWMt10",
        "outputId": "ceb222fe-08b3-4ff9-90db-4ecb8e7e20ba"
      },
      "execution_count": null,
      "outputs": [
        {
          "output_type": "execute_result",
          "data": {
            "text/plain": [
              "DecisionTreeRegressor()"
            ]
          },
          "metadata": {},
          "execution_count": 104
        }
      ]
    },
    {
      "cell_type": "code",
      "source": [
        "model_tree_izopropanol = DecisionTreeRegressor()\n",
        "model_tree_izopropanol.fit(X_izopropanol_train, y_izopropanol_train)"
      ],
      "metadata": {
        "colab": {
          "base_uri": "https://localhost:8080/"
        },
        "id": "BIg1s-0dNPyW",
        "outputId": "ae0573b7-20ee-4bb4-f219-55a8c2f58140"
      },
      "execution_count": null,
      "outputs": [
        {
          "output_type": "execute_result",
          "data": {
            "text/plain": [
              "DecisionTreeRegressor()"
            ]
          },
          "metadata": {},
          "execution_count": 105
        }
      ]
    },
    {
      "cell_type": "markdown",
      "source": [
        "R^2 SCORE"
      ],
      "metadata": {
        "id": "ZlX6zoD7NaJu"
      }
    },
    {
      "cell_type": "code",
      "source": [
        "y_tree_water_predict = model_tree_water.predict(X_water_test)\n",
        "r2_score(y_water_test, y_tree_water_predict)"
      ],
      "metadata": {
        "colab": {
          "base_uri": "https://localhost:8080/"
        },
        "outputId": "553ff45a-c833-47a2-a41d-574f066fb3f1",
        "id": "ZJzWGlR8SfpI"
      },
      "execution_count": null,
      "outputs": [
        {
          "output_type": "execute_result",
          "data": {
            "text/plain": [
              "0.634131126543686"
            ]
          },
          "metadata": {},
          "execution_count": 106
        }
      ]
    },
    {
      "cell_type": "code",
      "source": [
        "y_tree_izopropanol_predict = model_tree_izopropanol.predict(X_izopropanol_test)\n",
        "r2_score(y_izopropanol_test, y_tree_izopropanol_predict)"
      ],
      "metadata": {
        "colab": {
          "base_uri": "https://localhost:8080/"
        },
        "id": "MCperp1aNo67",
        "outputId": "cbceadc9-d152-49aa-856d-04d3895e5b0e"
      },
      "execution_count": null,
      "outputs": [
        {
          "output_type": "execute_result",
          "data": {
            "text/plain": [
              "0.6067210417177398"
            ]
          },
          "metadata": {},
          "execution_count": 107
        }
      ]
    },
    {
      "cell_type": "markdown",
      "source": [
        "MAE"
      ],
      "metadata": {
        "id": "eHLhKYi2N2h6"
      }
    },
    {
      "cell_type": "code",
      "source": [
        "y_tree_water_pred = model_tree_water.predict(X_water_test)\n",
        "mean_absolute_error(y_water_test, y_tree_water_pred)"
      ],
      "metadata": {
        "colab": {
          "base_uri": "https://localhost:8080/"
        },
        "id": "UGvVss_5TRyX",
        "outputId": "f9f9f088-638f-4d54-ea28-f9414d4e42b9"
      },
      "execution_count": null,
      "outputs": [
        {
          "output_type": "execute_result",
          "data": {
            "text/plain": [
              "2.413633866699989"
            ]
          },
          "metadata": {},
          "execution_count": 108
        }
      ]
    },
    {
      "cell_type": "code",
      "source": [
        "y_tree_izopropanol_pred = model_tree_izopropanol.predict(X_izopropanol_test)\n",
        "mean_absolute_error(y_izopropanol_test, y_tree_izopropanol_pred)"
      ],
      "metadata": {
        "colab": {
          "base_uri": "https://localhost:8080/"
        },
        "id": "KtQtT5mTORs0",
        "outputId": "733c9873-d459-4e8b-9915-40f417fca6db"
      },
      "execution_count": null,
      "outputs": [
        {
          "output_type": "execute_result",
          "data": {
            "text/plain": [
              "2.6487126816394535"
            ]
          },
          "metadata": {},
          "execution_count": 109
        }
      ]
    },
    {
      "cell_type": "markdown",
      "source": [
        "MAPE"
      ],
      "metadata": {
        "id": "oM4xPr3yN9Hp"
      }
    },
    {
      "cell_type": "code",
      "source": [
        "mean_absolute_percentage_error(y_water_test, y_tree_water_pred)"
      ],
      "metadata": {
        "colab": {
          "base_uri": "https://localhost:8080/"
        },
        "id": "RhCRy4rBTwC_",
        "outputId": "e198fa85-9173-40de-dcee-35dd1d2f02a4"
      },
      "execution_count": null,
      "outputs": [
        {
          "output_type": "execute_result",
          "data": {
            "text/plain": [
              "2.4613114777475666"
            ]
          },
          "metadata": {},
          "execution_count": 110
        }
      ]
    },
    {
      "cell_type": "code",
      "source": [
        "mean_absolute_percentage_error(y_izopropanol_test, y_tree_izopropanol_pred)"
      ],
      "metadata": {
        "colab": {
          "base_uri": "https://localhost:8080/"
        },
        "id": "oEl1ibpsOF1l",
        "outputId": "f5514ffc-4fe6-4b27-dec6-069eda67e8b3"
      },
      "execution_count": null,
      "outputs": [
        {
          "output_type": "execute_result",
          "data": {
            "text/plain": [
              "2.581475304226259"
            ]
          },
          "metadata": {},
          "execution_count": 111
        }
      ]
    },
    {
      "cell_type": "markdown",
      "source": [
        "MSE"
      ],
      "metadata": {
        "id": "6eC8Q6kAOb4R"
      }
    },
    {
      "cell_type": "code",
      "source": [
        "mean_squared_error(y_water_test, y_tree_water_pred)"
      ],
      "metadata": {
        "colab": {
          "base_uri": "https://localhost:8080/"
        },
        "id": "WSP5rZ4OT50q",
        "outputId": "2a1f4bdd-e5b9-46fc-fb37-b32e9a2ffb39"
      },
      "execution_count": null,
      "outputs": [
        {
          "output_type": "execute_result",
          "data": {
            "text/plain": [
              "15.714734174866697"
            ]
          },
          "metadata": {},
          "execution_count": 112
        }
      ]
    },
    {
      "cell_type": "code",
      "source": [
        "mean_squared_error(y_izopropanol_test, y_tree_izopropanol_pred)"
      ],
      "metadata": {
        "colab": {
          "base_uri": "https://localhost:8080/"
        },
        "id": "A-sgbXeLOf7C",
        "outputId": "9279b7ea-069d-4be0-b4b9-e8b0c1be2bde"
      },
      "execution_count": null,
      "outputs": [
        {
          "output_type": "execute_result",
          "data": {
            "text/plain": [
              "19.064008653008926"
            ]
          },
          "metadata": {},
          "execution_count": 113
        }
      ]
    },
    {
      "cell_type": "markdown",
      "source": [
        "RMSE"
      ],
      "metadata": {
        "id": "1wCL5xDXOhPt"
      }
    },
    {
      "cell_type": "code",
      "source": [
        "mean_squared_error(y_water_test, y_tree_water_pred, squared=False)"
      ],
      "metadata": {
        "colab": {
          "base_uri": "https://localhost:8080/"
        },
        "id": "RjJLbtB4UFT9",
        "outputId": "c6fc5405-fc56-40c3-a7f3-44750b15a92c"
      },
      "execution_count": null,
      "outputs": [
        {
          "output_type": "execute_result",
          "data": {
            "text/plain": [
              "3.96418140034821"
            ]
          },
          "metadata": {},
          "execution_count": 114
        }
      ]
    },
    {
      "cell_type": "code",
      "source": [
        "mean_squared_error(y_izopropanol_test, y_izopropanol_pred, squared=False)"
      ],
      "metadata": {
        "colab": {
          "base_uri": "https://localhost:8080/"
        },
        "id": "UlIhF9kaOkzN",
        "outputId": "7643580a-51c3-467a-8086-4ed16951cc0f"
      },
      "execution_count": null,
      "outputs": [
        {
          "output_type": "execute_result",
          "data": {
            "text/plain": [
              "3.2770382237048756"
            ]
          },
          "metadata": {},
          "execution_count": 115
        }
      ]
    },
    {
      "cell_type": "markdown",
      "source": [
        "##Random Forest Regressor"
      ],
      "metadata": {
        "id": "ZSl4wDpJfM6B"
      }
    },
    {
      "cell_type": "code",
      "source": [
        "randomforest_water = RandomForestRegressor(n_estimators = 300, random_state = 42, max_depth = 100, bootstrap = True)\n",
        "randomforest_water.fit(X_water_train, y_water_train) "
      ],
      "metadata": {
        "colab": {
          "base_uri": "https://localhost:8080/"
        },
        "id": "BA-rolnFWgrs",
        "outputId": "23b05ab9-a67b-4d9a-af50-c22902c61559"
      },
      "execution_count": null,
      "outputs": [
        {
          "output_type": "stream",
          "name": "stderr",
          "text": [
            "<ipython-input-136-3135816d93e8>:2: DataConversionWarning: A column-vector y was passed when a 1d array was expected. Please change the shape of y to (n_samples,), for example using ravel().\n",
            "  randomforest_water.fit(X_water_train, y_water_train)\n"
          ]
        },
        {
          "output_type": "execute_result",
          "data": {
            "text/plain": [
              "RandomForestRegressor(max_depth=100, n_estimators=300, random_state=42)"
            ]
          },
          "metadata": {},
          "execution_count": 136
        }
      ]
    },
    {
      "cell_type": "code",
      "source": [
        "randomforest_izopropanol = RandomForestRegressor(n_estimators = 300, random_state = 42, max_depth = 100, bootstrap = True)\n",
        "randomforest_izopropanol.fit(X_izopropanol_train, y_izopropanol_train)"
      ],
      "metadata": {
        "colab": {
          "base_uri": "https://localhost:8080/"
        },
        "id": "tgFFCCmja4kI",
        "outputId": "2e480a77-d200-4aa0-95ca-b1c8ddc3788f"
      },
      "execution_count": null,
      "outputs": [
        {
          "output_type": "stream",
          "name": "stderr",
          "text": [
            "<ipython-input-117-8d0ced5b1f3b>:2: DataConversionWarning: A column-vector y was passed when a 1d array was expected. Please change the shape of y to (n_samples,), for example using ravel().\n",
            "  randomforest_izopropanol.fit(X_izopropanol_train, y_izopropanol_train)\n"
          ]
        },
        {
          "output_type": "execute_result",
          "data": {
            "text/plain": [
              "RandomForestRegressor(max_depth=100, n_estimators=300, random_state=42)"
            ]
          },
          "metadata": {},
          "execution_count": 117
        }
      ]
    },
    {
      "cell_type": "markdown",
      "source": [
        "### MODEL EVALUATION METRICS"
      ],
      "metadata": {
        "id": "cFJXI95ibFUs"
      }
    },
    {
      "cell_type": "markdown",
      "source": [
        "R^2 SCORE"
      ],
      "metadata": {
        "id": "IrAgQvxlkCaP"
      }
    },
    {
      "cell_type": "code",
      "source": [
        "y_randomforest_water_predict = randomforest_water.predict(X_water_test)\n",
        "r2_score(y_water_test, y_randomforest_water_predict)"
      ],
      "metadata": {
        "colab": {
          "base_uri": "https://localhost:8080/"
        },
        "id": "vbzVug-qXq04",
        "outputId": "71e38c2a-c274-4996-9e36-ff73dd67998d"
      },
      "execution_count": null,
      "outputs": [
        {
          "output_type": "execute_result",
          "data": {
            "text/plain": [
              "0.7333513552405966"
            ]
          },
          "metadata": {},
          "execution_count": 137
        }
      ]
    },
    {
      "cell_type": "code",
      "source": [
        "y_randomforest_izopropanol_predict = randomforest_izopropanol.predict(X_izopropanol_test)\n",
        "r2_score(y_izopropanol_test, y_randomforest_izopropanol_predict)"
      ],
      "metadata": {
        "colab": {
          "base_uri": "https://localhost:8080/"
        },
        "id": "hgV4YUmBkIuM",
        "outputId": "d8e35d8a-a9bc-4826-9a9f-6cfc46b1a710"
      },
      "execution_count": null,
      "outputs": [
        {
          "output_type": "execute_result",
          "data": {
            "text/plain": [
              "0.7062831882361995"
            ]
          },
          "metadata": {},
          "execution_count": 138
        }
      ]
    },
    {
      "cell_type": "markdown",
      "source": [
        "MAE"
      ],
      "metadata": {
        "id": "Lh8844WCkUus"
      }
    },
    {
      "cell_type": "code",
      "source": [
        "y_randomforest_water_pred = randomforest_water.predict(X_water_test)\n",
        "mean_absolute_error(y_water_test, y_randomforest_water_pred)"
      ],
      "metadata": {
        "colab": {
          "base_uri": "https://localhost:8080/"
        },
        "id": "LXjlpjrQkSJw",
        "outputId": "f3840507-50b1-4907-d24e-3fb9dce4b810"
      },
      "execution_count": null,
      "outputs": [
        {
          "output_type": "execute_result",
          "data": {
            "text/plain": [
              "2.254287688815163"
            ]
          },
          "metadata": {},
          "execution_count": 120
        }
      ]
    },
    {
      "cell_type": "code",
      "source": [
        "y_randomforest_izopropanol_pred = randomforest_izopropanol.predict(X_izopropanol_test)\n",
        "mean_absolute_error(y_izopropanol_test, y_randomforest_izopropanol_pred)"
      ],
      "metadata": {
        "colab": {
          "base_uri": "https://localhost:8080/"
        },
        "id": "wMhvIUm2krSS",
        "outputId": "fd25ba72-dfa8-4baa-98e3-6f09ed93c2e5"
      },
      "execution_count": null,
      "outputs": [
        {
          "output_type": "execute_result",
          "data": {
            "text/plain": [
              "2.49760875510357"
            ]
          },
          "metadata": {},
          "execution_count": 121
        }
      ]
    },
    {
      "cell_type": "markdown",
      "source": [
        "MAPE"
      ],
      "metadata": {
        "id": "P9VeCy8ElAIw"
      }
    },
    {
      "cell_type": "code",
      "source": [
        "mean_absolute_percentage_error(y_water_test, y_randomforest_water_pred)"
      ],
      "metadata": {
        "colab": {
          "base_uri": "https://localhost:8080/"
        },
        "id": "RJq0tkeYlDqs",
        "outputId": "c070bee7-7262-4209-8164-4fbf9bf92f00"
      },
      "execution_count": null,
      "outputs": [
        {
          "output_type": "execute_result",
          "data": {
            "text/plain": [
              "2.3819431005118736"
            ]
          },
          "metadata": {},
          "execution_count": 122
        }
      ]
    },
    {
      "cell_type": "code",
      "source": [
        "mean_absolute_percentage_error(y_izopropanol_test, y_randomforest_izopropanol_pred)"
      ],
      "metadata": {
        "colab": {
          "base_uri": "https://localhost:8080/"
        },
        "id": "AJgNAiERlJPE",
        "outputId": "d222a4c4-ef4b-4a42-811b-96eefaf4efea"
      },
      "execution_count": null,
      "outputs": [
        {
          "output_type": "execute_result",
          "data": {
            "text/plain": [
              "2.5573856107801256"
            ]
          },
          "metadata": {},
          "execution_count": 123
        }
      ]
    },
    {
      "cell_type": "markdown",
      "source": [
        "MSE"
      ],
      "metadata": {
        "id": "vWYtYm9plViD"
      }
    },
    {
      "cell_type": "code",
      "source": [
        "mean_squared_error(y_water_test, y_randomforest_water_pred)"
      ],
      "metadata": {
        "colab": {
          "base_uri": "https://localhost:8080/"
        },
        "id": "s-iETSqplUqX",
        "outputId": "54b7b882-99bb-44b7-f674-9db9c9a02db4"
      },
      "execution_count": null,
      "outputs": [
        {
          "output_type": "execute_result",
          "data": {
            "text/plain": [
              "11.453044723092093"
            ]
          },
          "metadata": {},
          "execution_count": 124
        }
      ]
    },
    {
      "cell_type": "code",
      "source": [
        "mean_squared_error(y_izopropanol_test, y_randomforest_izopropanol_pred)"
      ],
      "metadata": {
        "colab": {
          "base_uri": "https://localhost:8080/"
        },
        "id": "L5rZ5KI2lbNA",
        "outputId": "6cb798fc-789c-4b23-8913-d5f4bd49d919"
      },
      "execution_count": null,
      "outputs": [
        {
          "output_type": "execute_result",
          "data": {
            "text/plain": [
              "14.237781409552374"
            ]
          },
          "metadata": {},
          "execution_count": 125
        }
      ]
    },
    {
      "cell_type": "markdown",
      "source": [
        "RMSE"
      ],
      "metadata": {
        "id": "2uBvYWy0lupm"
      }
    },
    {
      "cell_type": "code",
      "source": [
        "mean_squared_error(y_water_test, y_randomforest_water_pred, squared=False)"
      ],
      "metadata": {
        "colab": {
          "base_uri": "https://localhost:8080/"
        },
        "id": "7E7E0Ifvlr_9",
        "outputId": "bcce0b1a-fdc0-4fff-a1a9-5c672c93e506"
      },
      "execution_count": null,
      "outputs": [
        {
          "output_type": "execute_result",
          "data": {
            "text/plain": [
              "3.384234732268448"
            ]
          },
          "metadata": {},
          "execution_count": 126
        }
      ]
    },
    {
      "cell_type": "code",
      "source": [
        "mean_squared_error(y_izopropanol_test, y_randomforest_izopropanol_pred, squared=False)"
      ],
      "metadata": {
        "colab": {
          "base_uri": "https://localhost:8080/"
        },
        "id": "dss34NmXlz5Q",
        "outputId": "0d8553f9-c99b-49d5-b724-c184c0110f0f"
      },
      "execution_count": null,
      "outputs": [
        {
          "output_type": "execute_result",
          "data": {
            "text/plain": [
              "3.773298478725527"
            ]
          },
          "metadata": {},
          "execution_count": 127
        }
      ]
    }
  ]
}